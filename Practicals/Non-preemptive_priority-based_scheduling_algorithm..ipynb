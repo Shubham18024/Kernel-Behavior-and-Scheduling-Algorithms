{
 "cells": [
  {
   "cell_type": "markdown",
   "id": "6e63afef",
   "metadata": {},
   "source": [
    "# Write a program to implement non-preemptive priority-based scheduling algorithm."
   ]
  },
  {
   "cell_type": "markdown",
   "id": "44b789e9",
   "metadata": {},
   "source": [
    "## ******************** CODE VERSION 1 *********************"
   ]
  },
  {
   "cell_type": "code",
   "execution_count": 1,
   "id": "d72fef14",
   "metadata": {},
   "outputs": [
    {
     "name": "stdout",
     "output_type": "stream",
     "text": [
      "Enter the number of processes: 5\n",
      "Enter the Arrival time for Process_id P1: 0\n",
      "Enter the Burst time for Process_id P1: 11\n",
      "Enter the Priority for Process_id P1: 2\n",
      "Enter the Arrival time for Process_id P2: 5\n",
      "Enter the Burst time for Process_id P2: 28\n",
      "Enter the Priority for Process_id P2: 0\n",
      "Enter the Arrival time for Process_id P3: 12\n",
      "Enter the Burst time for Process_id P3: 2\n",
      "Enter the Priority for Process_id P3: 3\n",
      "Enter the Arrival time for Process_id P4: 2\n",
      "Enter the Burst time for Process_id P4: 10\n",
      "Enter the Priority for Process_id P4: 1\n",
      "Enter the Arrival time for Process_id P5: 9\n",
      "Enter the Burst time for Process_id P5: 16\n",
      "Enter the Priority for Process_id P5: 4\n",
      "***********************************************************************************************************************\n",
      "NON-PREEMPTIVE PRIORITY-BASED SCHEDULING IMPLEMENTATION\n",
      "\n",
      "Process ID | Arrival Time | Burst Time | Priority | Completion Time | Turnaround Time | Waiting Time | Response Time\n",
      "P1       | 0            | 11         | 2       |  11         | 11             | 0          | 0\n",
      "P4       | 2            | 10         | 1       |  49         | 47             | 37          | 37\n",
      "P2       | 5            | 28         | 0       |  39         | 34             | 6          | 6\n",
      "P5       | 9            | 16         | 4       |  67         | 58             | 42          | 42\n",
      "P3       | 12            | 2         | 3       |  51         | 39             | 37          | 37\n",
      "\n",
      "Average Waiting Time: 24.40\n",
      "Average Turnaround Time: 37.80\n",
      "Average Response Time: 24.40\n"
     ]
    }
   ],
   "source": [
    "num_pro = int(input(\"Enter the number of processes: \"))\n",
    "Process = {}\n",
    "for i in range(num_pro):\n",
    "    process_id = f\"P{i+1}\"\n",
    "    arrival_time = int(input(f\"Enter the Arrival time for Process_id P{i+1}: \"))\n",
    "    burst_time = int(input(f\"Enter the Burst time for Process_id P{i+1}: \"))\n",
    "    priority = int(input(f\"Enter the Priority for Process_id P{i+1}: \"))\n",
    "    Process[process_id] = [arrival_time, burst_time, priority]\n",
    "\n",
    "waiting_time = {}\n",
    "turnaround_time = {}\n",
    "completion_time = {}\n",
    "current_time = 0\n",
    "processes_completed = 0\n",
    "is_process_completed = {process_id: False for process_id in Process.keys()}\n",
    "\n",
    "# Loop until all processes are completed\n",
    "while processes_completed < num_pro:\n",
    "    # Filter processes that have arrived and are not completed\n",
    "    available_processes = {pid: data for pid, data in Process.items() if data[0] <= current_time and not is_process_completed[pid]}\n",
    "    \n",
    "    if available_processes:\n",
    "        # Select process with highest priority (lower number = higher priority)\n",
    "        selected_process = min(available_processes.items(), key=lambda item: item[1][2])  # item[1][2] is the priority\n",
    "        process_id, times = selected_process\n",
    "        arrival, burst, priority = times\n",
    "\n",
    "        completion_time[process_id] = current_time + burst\n",
    "        turnaround_time[process_id] = completion_time[process_id] - arrival\n",
    "        waiting_time[process_id] = turnaround_time[process_id] - burst\n",
    "        current_time = completion_time[process_id]  # Update current time\n",
    "        \n",
    "        is_process_completed[process_id] = True  # Mark process as completed\n",
    "        processes_completed += 1  # Increment completed processes\n",
    "    else:\n",
    "        # If no process is available, increment the current time\n",
    "        current_time += 1\n",
    "\n",
    "avg_waiting_time = sum(waiting_time.values()) / num_pro\n",
    "avg_turnaround_time = sum(turnaround_time.values()) / num_pro\n",
    "\n",
    "print(\"***********************************************************************************************************************\")\n",
    "print(\"NON-PREEMPTIVE PRIORITY-BASED SCHEDULING IMPLEMENTATION\")\n",
    "print(\"\\nProcess ID | Arrival Time | Burst Time | Priority | Completion Time | Turnaround Time | Waiting Time | Response Time\")\n",
    "\n",
    "for process_id in sorted(Process.keys(), key=lambda pid: Process[pid][0]):\n",
    "    print(f\"{process_id}       | {Process[process_id][0]}            | {Process[process_id][1]}         | {Process[process_id][2]}       |  {completion_time[process_id]}         | {turnaround_time[process_id]}             | {waiting_time[process_id]}          | {waiting_time[process_id]}\")\n",
    "\n",
    "print(f\"\\nAverage Waiting Time: {avg_waiting_time:.2f}\")\n",
    "print(f\"Average Turnaround Time: {avg_turnaround_time:.2f}\")\n",
    "print(f\"Average Response Time: {avg_waiting_time:.2f}\")\n"
   ]
  },
  {
   "cell_type": "code",
   "execution_count": 5,
   "id": "bfa4850e",
   "metadata": {},
   "outputs": [
    {
     "name": "stdout",
     "output_type": "stream",
     "text": [
      "{'P1': [0, 11, 2], 'P2': [5, 28, 0], 'P3': [12, 2, 3], 'P4': [2, 10, 1], 'P5': [9, 16, 4]}\n",
      "dict_keys(['P1', 'P2', 'P3', 'P4', 'P5'])\n",
      "dict_items([('P1', [0, 11, 2]), ('P2', [5, 28, 0]), ('P3', [12, 2, 3]), ('P4', [2, 10, 1]), ('P5', [9, 16, 4])])\n"
     ]
    }
   ],
   "source": [
    "print(Process)\n",
    "print(Process.keys())\n",
    "print(Process.items())"
   ]
  },
  {
   "cell_type": "markdown",
   "id": "2da6b5b6",
   "metadata": {},
   "source": [
    "## ******************** CODE VERSION 2 *********************"
   ]
  },
  {
   "cell_type": "code",
   "execution_count": null,
   "id": "027cc900",
   "metadata": {},
   "outputs": [],
   "source": [
    "num_pro = int(input(\"Enter the number of processes: \"))\n",
    "Process = {}\n",
    "for i in range(num_pro):\n",
    "    process_id = f\"P{i+1}\"\n",
    "    arrival_time = int(input(f\"Enter the Arrival time for Process_id P{i+1}: \"))\n",
    "    burst_time = int(input(f\"Enter the Burst time for Process_id P{i+1}: \"))\n",
    "    priority = int(input(f\"Enter the Priority for Process_id P{i+1}: \"))\n",
    "    Process[process_id] = [arrival_time, burst_time, priority]\n",
    "\n",
    "waiting_time = {}\n",
    "turnaround_time = {}\n",
    "completion_time = {}\n",
    "current_time = 0\n",
    "processes_completed = 0\n",
    "is_process_completed = {process_id: False for process_id in Process.keys()}\n",
    "\n",
    "# Loop until all processes are completed\n",
    "while processes_completed < num_pro:\n",
    "    # Filter processes that have arrived and are not completed\n",
    "    available_processes = {}\n",
    "    for pid, data in Process.items():\n",
    "        arrival_time = data[0]\n",
    "        if arrival_time <= current_time:  # Process has arrived\n",
    "        # Step 2: Check if process is not completed\n",
    "            if not is_process_completed[pid]:  # Process is not finished\n",
    "                available_processes[pid] = data  # Add to available processes\n",
    "                \n",
    "    if available_processes:\n",
    "        # Select process with highest priority (lower number = higher priority)\n",
    "        selected_process = min(available_processes.items(), key=lambda item: item[1][2])  # item[1][2] is the priority\n",
    "        process_id, times = selected_process\n",
    "        arrival, burst, priority = times\n",
    "\n",
    "        completion_time[process_id] = current_time + burst\n",
    "        turnaround_time[process_id] = completion_time[process_id] - arrival\n",
    "        waiting_time[process_id] = turnaround_time[process_id] - burst\n",
    "        current_time = completion_time[process_id]  # Update current time\n",
    "        \n",
    "        is_process_completed[process_id] = True  # Mark process as completed\n",
    "        processes_completed += 1  # Increment completed processes\n",
    "    else:\n",
    "        # If no process is available, increment the current time\n",
    "        current_time += 1\n",
    "\n",
    "avg_waiting_time = sum(waiting_time.values()) / num_pro\n",
    "avg_turnaround_time = sum(turnaround_time.values()) / num_pro\n",
    "\n",
    "print(\"***********************************************************************************************************************\")\n",
    "print(\"NON-PREEMPTIVE PRIORITY-BASED SCHEDULING IMPLEMENTATION\")\n",
    "print(\"\\nProcess ID | Arrival Time | Burst Time | Priority | Completion Time | Turnaround Time | Waiting Time | Response Time\")\n",
    "\n",
    "for process_id in sorted(Process.keys(), key=lambda pid: Process[pid][0]):\n",
    "    print(f\"{process_id}       | {Process[process_id][0]}            | {Process[process_id][1]}         | {Process[process_id][2]}       |  {completion_time[process_id]}         | {turnaround_time[process_id]}             | {waiting_time[process_id]}          | {waiting_time[process_id]}\")\n",
    "\n",
    "print(f\"\\nAverage Waiting Time: {avg_waiting_time:.2f}\")\n",
    "print(f\"Average Turnaround Time: {avg_turnaround_time:.2f}\")\n",
    "print(f\"Average Response Time: {avg_waiting_time:.2f}\")"
   ]
  }
 ],
 "metadata": {
  "kernelspec": {
   "display_name": "Python 3 (ipykernel)",
   "language": "python",
   "name": "python3"
  },
  "language_info": {
   "codemirror_mode": {
    "name": "ipython",
    "version": 3
   },
   "file_extension": ".py",
   "mimetype": "text/x-python",
   "name": "python",
   "nbconvert_exporter": "python",
   "pygments_lexer": "ipython3",
   "version": "3.11.1"
  }
 },
 "nbformat": 4,
 "nbformat_minor": 5
}
