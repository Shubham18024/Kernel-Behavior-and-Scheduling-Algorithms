{
 "cells": [
  {
   "cell_type": "markdown",
   "id": "f7dbdd0d",
   "metadata": {},
   "source": [
    "# FIRST COME FIRST SEARCH IMPLEMENTATION"
   ]
  },
  {
   "cell_type": "code",
   "execution_count": 17,
   "id": "d54daddc",
   "metadata": {},
   "outputs": [
    {
     "data": {
      "image/svg+xml": [
       "<svg xmlns=\"http://www.w3.org/2000/svg\" xmlns:xlink=\"http://www.w3.org/1999/xlink\" width=\"544pt\" height=\"654pt\" viewBox=\"0.00 0.00 544.22 654.40\">\n",
       "<g id=\"graph0\" class=\"graph\" transform=\"scale(1 1) rotate(0) translate(4 650.4)\">\n",
       "<title>FCFS</title>\n",
       "<polygon fill=\"#ffffff\" stroke=\"transparent\" points=\"-4,4 -4,-650.4 540.2232,-650.4 540.2232,4 -4,4\"/>\n",
       "<!-- Start -->\n",
       "<g id=\"node1\" class=\"node\">\n",
       "<title>Start</title>\n",
       "<polygon fill=\"#4caf50\" stroke=\"#000000\" points=\"295.1116,-646.4 241.1116,-646.4 241.1116,-610.4 295.1116,-610.4 295.1116,-646.4\"/>\n",
       "<text text-anchor=\"middle\" x=\"268.1116\" y=\"-624.2\" font-family=\"Times,serif\" font-size=\"14.00\" fill=\"#ffffff\">Start</text>\n",
       "</g>\n",
       "<!-- InputProcesses -->\n",
       "<g id=\"node2\" class=\"node\">\n",
       "<title>InputProcesses</title>\n",
       "<polygon fill=\"#ff9800\" stroke=\"#000000\" points=\"352.1166,-574.4 184.1066,-574.4 184.1066,-538.4 352.1166,-538.4 352.1166,-574.4\"/>\n",
       "<text text-anchor=\"middle\" x=\"268.1116\" y=\"-552.2\" font-family=\"Times,serif\" font-size=\"14.00\" fill=\"#ffffff\">Input Number of Processes</text>\n",
       "</g>\n",
       "<!-- Start&#45;&gt;InputProcesses -->\n",
       "<g id=\"edge1\" class=\"edge\">\n",
       "<title>Start-&gt;InputProcesses</title>\n",
       "<path fill=\"none\" stroke=\"#000000\" d=\"M268.1116,-610.2314C268.1116,-602.531 268.1116,-593.3743 268.1116,-584.8166\"/>\n",
       "<polygon fill=\"#000000\" stroke=\"#000000\" points=\"271.6117,-584.8132 268.1116,-574.8133 264.6117,-584.8133 271.6117,-584.8132\"/>\n",
       "</g>\n",
       "<!-- InputTimes -->\n",
       "<g id=\"node3\" class=\"node\">\n",
       "<title>InputTimes</title>\n",
       "<polygon fill=\"#03a9f4\" stroke=\"#000000\" points=\"422.457,-502.4 113.7662,-502.4 113.7662,-466.4 422.457,-466.4 422.457,-502.4\"/>\n",
       "<text text-anchor=\"middle\" x=\"268.1116\" y=\"-480.2\" font-family=\"Times,serif\" font-size=\"14.00\" fill=\"#ffffff\">Input Arrival Time and Burst Time for each Process</text>\n",
       "</g>\n",
       "<!-- InputProcesses&#45;&gt;InputTimes -->\n",
       "<g id=\"edge2\" class=\"edge\">\n",
       "<title>InputProcesses-&gt;InputTimes</title>\n",
       "<path fill=\"none\" stroke=\"#000000\" d=\"M268.1116,-538.2314C268.1116,-530.531 268.1116,-521.3743 268.1116,-512.8166\"/>\n",
       "<polygon fill=\"#000000\" stroke=\"#000000\" points=\"271.6117,-512.8132 268.1116,-502.8133 264.6117,-512.8133 271.6117,-512.8132\"/>\n",
       "</g>\n",
       "<!-- SortProcesses -->\n",
       "<g id=\"node4\" class=\"node\">\n",
       "<title>SortProcesses</title>\n",
       "<polygon fill=\"#9c27b0\" stroke=\"#000000\" points=\"414.6605,-430.6014 121.5627,-430.6014 121.5627,-371.7986 414.6605,-371.7986 414.6605,-430.6014\"/>\n",
       "<text text-anchor=\"middle\" x=\"268.1116\" y=\"-413.8\" font-family=\"Times,serif\" font-size=\"14.00\" fill=\"#ffffff\">Sort Processes by Arrival Time</text>\n",
       "<text text-anchor=\"middle\" x=\"268.1116\" y=\"-397\" font-family=\"Times,serif\" font-size=\"14.00\" fill=\"#ffffff\">- Compare the arrival times of all processes</text>\n",
       "<text text-anchor=\"middle\" x=\"268.1116\" y=\"-380.2\" font-family=\"Times,serif\" font-size=\"14.00\" fill=\"#ffffff\">- Arrange them in increasing order of arrival time</text>\n",
       "</g>\n",
       "<!-- InputTimes&#45;&gt;SortProcesses -->\n",
       "<g id=\"edge3\" class=\"edge\">\n",
       "<title>InputTimes-&gt;SortProcesses</title>\n",
       "<path fill=\"none\" stroke=\"#000000\" d=\"M268.1116,-466.3468C268.1116,-458.7769 268.1116,-449.656 268.1116,-440.6681\"/>\n",
       "<polygon fill=\"#000000\" stroke=\"#000000\" points=\"271.6117,-440.6667 268.1116,-430.6668 264.6117,-440.6668 271.6117,-440.6667\"/>\n",
       "</g>\n",
       "<!-- InitializeMetrics -->\n",
       "<g id=\"node5\" class=\"node\">\n",
       "<title>InitializeMetrics</title>\n",
       "<polygon fill=\"#ffeb3b\" stroke=\"#000000\" points=\"483.5538,-336.2014 52.6694,-336.2014 52.6694,-277.3986 483.5538,-277.3986 483.5538,-336.2014\"/>\n",
       "<text text-anchor=\"middle\" x=\"268.1116\" y=\"-319.4\" font-family=\"Times,serif\" font-size=\"14.00\" fill=\"#000000\">Initialize Metrics</text>\n",
       "<text text-anchor=\"middle\" x=\"268.1116\" y=\"-302.6\" font-family=\"Times,serif\" font-size=\"14.00\" fill=\"#000000\">- Set current time to 0</text>\n",
       "<text text-anchor=\"middle\" x=\"268.1116\" y=\"-285.8\" font-family=\"Times,serif\" font-size=\"14.00\" fill=\"#000000\">- Prepare to track Waiting Time, Turnaround Time, and Completion Time</text>\n",
       "</g>\n",
       "<!-- SortProcesses&#45;&gt;InitializeMetrics -->\n",
       "<g id=\"edge4\" class=\"edge\">\n",
       "<title>SortProcesses-&gt;InitializeMetrics</title>\n",
       "<path fill=\"none\" stroke=\"#000000\" d=\"M268.1116,-371.8487C268.1116,-363.7682 268.1116,-354.8692 268.1116,-346.3162\"/>\n",
       "<polygon fill=\"#000000\" stroke=\"#000000\" points=\"271.6117,-346.1331 268.1116,-336.1331 264.6117,-346.1332 271.6117,-346.1331\"/>\n",
       "</g>\n",
       "<!-- CalculateTimes -->\n",
       "<g id=\"node6\" class=\"node\">\n",
       "<title>CalculateTimes</title>\n",
       "<polygon fill=\"#e91e63\" stroke=\"#000000\" points=\"402.996,-241.6 133.2272,-241.6 133.2272,-149.6 402.996,-149.6 402.996,-241.6\"/>\n",
       "<text text-anchor=\"middle\" x=\"268.1116\" y=\"-225\" font-family=\"Times,serif\" font-size=\"14.00\" fill=\"#ffffff\">For Each Process (in order of arrival):</text>\n",
       "<text text-anchor=\"middle\" x=\"268.1116\" y=\"-208.2\" font-family=\"Times,serif\" font-size=\"14.00\" fill=\"#ffffff\">- Calculate Waiting Time</text>\n",
       "<text text-anchor=\"middle\" x=\"268.1116\" y=\"-191.4\" font-family=\"Times,serif\" font-size=\"14.00\" fill=\"#ffffff\">- Calculate Turnaround Time</text>\n",
       "<text text-anchor=\"middle\" x=\"268.1116\" y=\"-174.6\" font-family=\"Times,serif\" font-size=\"14.00\" fill=\"#ffffff\">- Calculate Completion Time</text>\n",
       "<text text-anchor=\"middle\" x=\"268.1116\" y=\"-157.8\" font-family=\"Times,serif\" font-size=\"14.00\" fill=\"#ffffff\">- Update Current Time by adding Burst Time</text>\n",
       "</g>\n",
       "<!-- InitializeMetrics&#45;&gt;CalculateTimes -->\n",
       "<g id=\"edge5\" class=\"edge\">\n",
       "<title>InitializeMetrics-&gt;CalculateTimes</title>\n",
       "<path fill=\"none\" stroke=\"#000000\" d=\"M268.1116,-277.5835C268.1116,-269.6354 268.1116,-260.7509 268.1116,-251.8444\"/>\n",
       "<polygon fill=\"#000000\" stroke=\"#000000\" points=\"271.6117,-251.8279 268.1116,-241.8279 264.6117,-251.828 271.6117,-251.8279\"/>\n",
       "</g>\n",
       "<!-- PrintResults -->\n",
       "<g id=\"node7\" class=\"node\">\n",
       "<title>PrintResults</title>\n",
       "<polygon fill=\"#00bcd4\" stroke=\"#000000\" points=\"536.3348,-113.4019 -.1116,-113.4019 -.1116,-72.1981 536.3348,-72.1981 536.3348,-113.4019\"/>\n",
       "<text text-anchor=\"middle\" x=\"268.1116\" y=\"-97\" font-family=\"Times,serif\" font-size=\"14.00\" fill=\"#ffffff\">Print Results for All Processes</text>\n",
       "<text text-anchor=\"middle\" x=\"268.1116\" y=\"-80.2\" font-family=\"Times,serif\" font-size=\"14.00\" fill=\"#ffffff\">- Display Arrival Time, Burst Time, Waiting Time, Turnaround Time, and Completion Time</text>\n",
       "</g>\n",
       "<!-- CalculateTimes&#45;&gt;PrintResults -->\n",
       "<g id=\"edge6\" class=\"edge\">\n",
       "<title>CalculateTimes-&gt;PrintResults</title>\n",
       "<path fill=\"none\" stroke=\"#000000\" d=\"M268.1116,-149.3124C268.1116,-140.6415 268.1116,-131.7747 268.1116,-123.712\"/>\n",
       "<polygon fill=\"#000000\" stroke=\"#000000\" points=\"271.6117,-123.6602 268.1116,-113.6602 264.6117,-123.6602 271.6117,-123.6602\"/>\n",
       "</g>\n",
       "<!-- End -->\n",
       "<g id=\"node8\" class=\"node\">\n",
       "<title>End</title>\n",
       "<polygon fill=\"#8bc34a\" stroke=\"#000000\" points=\"295.1116,-36 241.1116,-36 241.1116,0 295.1116,0 295.1116,-36\"/>\n",
       "<text text-anchor=\"middle\" x=\"268.1116\" y=\"-13.8\" font-family=\"Times,serif\" font-size=\"14.00\" fill=\"#ffffff\">End</text>\n",
       "</g>\n",
       "<!-- PrintResults&#45;&gt;End -->\n",
       "<g id=\"edge7\" class=\"edge\">\n",
       "<title>PrintResults-&gt;End</title>\n",
       "<path fill=\"none\" stroke=\"#000000\" d=\"M268.1116,-71.964C268.1116,-64.0614 268.1116,-54.9223 268.1116,-46.4373\"/>\n",
       "<polygon fill=\"#000000\" stroke=\"#000000\" points=\"271.6117,-46.1816 268.1116,-36.1816 264.6117,-46.1816 271.6117,-46.1816\"/>\n",
       "</g>\n",
       "</g>\n",
       "</svg>"
      ],
      "text/plain": [
       "<IPython.core.display.SVG object>"
      ]
     },
     "metadata": {},
     "output_type": "display_data"
    }
   ],
   "source": [
    "from IPython.display import SVG, display\n",
    "\n",
    "image_path = r\"C:\\Users\\saim\\FCFS_Flowchart.svg\"\n",
    "\n",
    "display(SVG(filename=image_path))"
   ]
  },
  {
   "cell_type": "markdown",
   "id": "b04ff6e7",
   "metadata": {},
   "source": [
    "<!DOCTYPE html>\n",
    "<html lang=\"en\">\n",
    "<head>\n",
    "    <meta charset=\"UTF-8\">\n",
    "    <meta name=\"viewport\" content=\"width=device-width, initial-scale=1.0\">\n",
    "    <title>FCFS Scheduling Algorithm</title>\n",
    "    <style>\n",
    "        body {\n",
    "            font-family: Arial, sans-serif;\n",
    "            margin: 20px;\n",
    "        }\n",
    "        h1 {\n",
    "            color: #4CAF50;\n",
    "        }\n",
    "        .key-points {\n",
    "            background-color: #f9f9f9;\n",
    "            border-left: 5px solid #4CAF50;\n",
    "            padding: 10px;\n",
    "            margin-bottom: 20px;\n",
    "        }\n",
    "        table {\n",
    "            width: 100%;\n",
    "            border-collapse: collapse;\n",
    "            margin-bottom: 20px;\n",
    "        }\n",
    "        th, td {\n",
    "            border: 1px solid #ddd;\n",
    "            padding: 8px;\n",
    "            text-align: left;\n",
    "        }\n",
    "        th {\n",
    "            background-color: #4CAF50;\n",
    "            color: white;\n",
    "        }\n",
    "    </style>\n",
    "</head>\n",
    "<body>\n",
    "    <h1>First-Come, First-Served (FCFS) Scheduling Algorithm</h1>\n",
    "    <div class=\"key-points\">\n",
    "        <strong>Non-Preemptive:</strong> Processes run to completion once started.<br>\n",
    "        <strong>Order:</strong> Executed in the order of arrival.<br>\n",
    "        <strong>Waiting Time:</strong> Time in the queue before execution.<br>\n",
    "        <strong>Turnaround Time:</strong> Total time from arrival to completion.<br>\n",
    "        <strong>Completion Time:</strong> Time when the process finishes.\n",
    "    </div>\n",
    "    <h2>Example</h2>\n",
    "    <table>\n",
    "        <tr>\n",
    "            <th>Process</th>\n",
    "            <th>Arrival Time</th>\n",
    "            <th>Burst Time</th>\n",
    "        </tr>\n",
    "        <tr>\n",
    "            <td>P1</td>\n",
    "            <td>0</td>\n",
    "            <td>4</td>\n",
    "        </tr>\n",
    "        <tr>\n",
    "            <td>P2</td>\n",
    "            <td>1</td>\n",
    "            <td>3</td>\n",
    "        </tr>\n",
    "        <tr>\n",
    "            <td>P3</td>\n",
    "            <td>2</td>\n",
    "            <td>1</td>\n",
    "        </tr>\n",
    "    </table>\n",
    "    <p><strong>Execution Order:</strong> P1 → P2 → P3</p>\n",
    "</body>\n",
    "</html>\n"
   ]
  },
  {
   "cell_type": "code",
   "execution_count": 3,
   "id": "77a7ba35",
   "metadata": {},
   "outputs": [
    {
     "name": "stdout",
     "output_type": "stream",
     "text": [
      "Enter the number of processes: 4\n",
      "Enter the Arrival time for Process_id P1: 0\n",
      "Enter the Burst time for Process_id P1: 2\n",
      "Enter the Arrival time for Process_id P2: 1\n",
      "Enter the Burst time for Process_id P2: 2\n",
      "Enter the Arrival time for Process_id P3: 5\n",
      "Enter the Burst time for Process_id P3: 3\n",
      "Enter the Arrival time for Process_id P4: 6\n",
      "Enter the Burst time for Process_id P4: 4\n",
      "***********************************************************************************************************************\n",
      "FIRST COME FIRST SEARCH IMPLEMENTATION\n",
      "\n",
      "Process ID | Arrival Time | Burst Time | Completion Time | Turnaround Time | Waiting Time | Response Time\n",
      "P1       | 0            | 2         |  2         | 2             | 0          |0 \n",
      "P2       | 1            | 2         |  4         | 3             | 1          |1 \n",
      "P3       | 5            | 3         |  8         | 3             | 0          |0 \n",
      "P4       | 6            | 4         |  12         | 6             | 2          |2 \n",
      "\n",
      "Average Waiting Time: 0.75\n",
      "Average Turnaround Time: 3.50\n",
      "Average Response Time: 0.75\n"
     ]
    }
   ],
   "source": [
    "num_pro = int(input(\"Enter the number of processes: \"))\n",
    "Process = {}\n",
    "for i in range(num_pro):\n",
    "    process_id = f\"P{i+1}\"\n",
    "    arrival_time = int(input(f\"Enter the Arrival time for Process_id P{i+1}: \"))\n",
    "    burst_time = int(input(f\"Enter the Burst time for Process_id P{i+1}: \"))\n",
    "    Process[process_id] = [arrival_time, burst_time]\n",
    "\n",
    "# Sorting based on arrival time\n",
    "sorted_process = sorted(Process.items(), key=lambda item: item[1][0])\n",
    "\n",
    "waiting_time = {}\n",
    "turnaround_time = {}\n",
    "completion_time = {}\n",
    "current_time = 0\n",
    "\n",
    "# Calculate waiting, turnaround, and completion times\n",
    "for process_id, times in sorted_process:\n",
    "    arrival, burst = times\n",
    "    \n",
    "    # If the current time is less than the arrival time, adjust the current time\n",
    "    if current_time < arrival:\n",
    "        current_time = arrival\n",
    "        \n",
    "    completion_time[process_id] = current_time + burst\n",
    "    turnaround_time[process_id] = completion_time[process_id] - arrival\n",
    "    waiting_time[process_id] = turnaround_time[process_id] - burst\n",
    "    current_time = completion_time[process_id]  # Update current time\n",
    "\n",
    "avg_waiting_time = sum(waiting_time.values()) / num_pro\n",
    "avg_turnaround_time = sum(turnaround_time.values()) / num_pro\n",
    "\n",
    "print(\"***********************************************************************************************************************\")\n",
    "\n",
    "print(\"FIRST COME FIRST SEARCH IMPLEMENTATION\")\n",
    "\n",
    "print(\"\\nProcess ID | Arrival Time | Burst Time | Completion Time | Turnaround Time | Waiting Time | Response Time\")\n",
    "for process_id in sorted(Process.keys(), key=lambda pid: Process[pid][0]):\n",
    "    print(f\"{process_id}       | {Process[process_id][0]}            | {Process[process_id][1]}         |  {completion_time[process_id]}         | {turnaround_time[process_id]}             | {waiting_time[process_id]}          |{waiting_time[process_id]} \")\n",
    "\n",
    "print(f\"\\nAverage Waiting Time: {avg_waiting_time:.2f}\")\n",
    "print(f\"Average Turnaround Time: {avg_turnaround_time:.2f}\")\n",
    "print(f\"Average Response Time: {avg_waiting_time:.2f}\")"
   ]
  },
  {
   "cell_type": "code",
   "execution_count": 4,
   "id": "64654335",
   "metadata": {},
   "outputs": [
    {
     "data": {
      "text/plain": [
       "{'P1': [0, 2], 'P2': [1, 2], 'P3': [5, 3], 'P4': [6, 4]}"
      ]
     },
     "execution_count": 4,
     "metadata": {},
     "output_type": "execute_result"
    }
   ],
   "source": [
    "Process"
   ]
  },
  {
   "cell_type": "code",
   "execution_count": 13,
   "id": "46a42ca5",
   "metadata": {},
   "outputs": [
    {
     "name": "stdout",
     "output_type": "stream",
     "text": [
      "Waiting Time : {'P1': 0, 'P2': 1, 'P3': 0, 'P4': 2},\n",
      "Turn Around Time : {'P1': 2, 'P2': 3, 'P3': 3, 'P4': 6},\n",
      "Completion Time : {'P1': 2, 'P2': 4, 'P3': 8, 'P4': 12}\n"
     ]
    }
   ],
   "source": [
    "print(f\"Waiting Time : {waiting_time},\\nTurn Around Time : {turnaround_time},\\nCompletion Time : {completion_time}\")"
   ]
  },
  {
   "cell_type": "code",
   "execution_count": 1,
   "id": "4c0e65ed",
   "metadata": {},
   "outputs": [
    {
     "name": "stdout",
     "output_type": "stream",
     "text": [
      "Help on built-in function sorted in module builtins:\n",
      "\n",
      "sorted(iterable, /, *, key=None, reverse=False)\n",
      "    Return a new list containing all items from the iterable in ascending order.\n",
      "    \n",
      "    A custom key function can be supplied to customize the sort order, and the\n",
      "    reverse flag can be set to request the result in descending order.\n",
      "\n"
     ]
    }
   ],
   "source": [
    "help(sorted)"
   ]
  },
  {
   "cell_type": "raw",
   "id": "4c260009",
   "metadata": {},
   "source": [
    "sorted(iterable, key=key, reverse=reverse)"
   ]
  },
  {
   "cell_type": "code",
   "execution_count": null,
   "id": "4b40b34e",
   "metadata": {},
   "outputs": [],
   "source": []
  }
 ],
 "metadata": {
  "kernelspec": {
   "display_name": "Python 3 (ipykernel)",
   "language": "python",
   "name": "python3"
  },
  "language_info": {
   "codemirror_mode": {
    "name": "ipython",
    "version": 3
   },
   "file_extension": ".py",
   "mimetype": "text/x-python",
   "name": "python",
   "nbconvert_exporter": "python",
   "pygments_lexer": "ipython3",
   "version": "3.11.1"
  }
 },
 "nbformat": 4,
 "nbformat_minor": 5
}
